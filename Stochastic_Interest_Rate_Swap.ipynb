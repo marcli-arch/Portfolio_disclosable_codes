{
  "nbformat": 4,
  "nbformat_minor": 0,
  "metadata": {
    "colab": {
      "provenance": []
    },
    "kernelspec": {
      "name": "python3",
      "display_name": "Python 3"
    },
    "language_info": {
      "name": "python"
    }
  },
  "cells": [
    {
      "cell_type": "markdown",
      "metadata": {
        "id": "uUyl84skE_Yy"
      },
      "source": [
        "This code similates an IRS (Interest Rape Swap) instrument:\n",
        "\n",
        "Check also:\n",
        "*ql.DiscountingSwapEngine\n",
        "\n",
        "*ql.VanillaSwap\n",
        "\n",
        "*Quantlib Cookbook: 12. Simulating Interest Rates using Hull\n",
        "White Model\n",
        "\n",
        "http://gouthamanbalaraman.com/blog/interest-rate-swap-quantlib-python.html\n",
        "https://quantlib-python-docs.readthedocs.io/en/latest/examples/fixedincome/vanillaswap.html\n",
        "\n",
        "-------------------------------------------------------------------------------\n",
        "https://quantlib-python-docs.readthedocs.io/en/latest/instruments.html\n",
        "https://quant.stackexchange.com/questions/44712/quantlib-python-use-zero-rates-to-get-the-originally-bootstrapped-curve\n",
        "http://gouthamanbalaraman.com/blog/quantlib-bond-modeling.html\n",
        "http://gouthamanbalaraman.com/blog/hull-white-simulation-quantlib-python.html"
      ]
    },
    {
      "cell_type": "code",
      "metadata": {
        "id": "pKhCdQmIFJ0W"
      },
      "source": [
        "# <!-- collapse=True -->\n",
        "# pip install QuantLib-Python\n",
        "import QuantLib as ql\n",
        "calculation_date = ql.Date(14, 1, 2020)\n",
        "ql.Settings.instance().evaluationDate = calculation_date"
      ],
      "execution_count": null,
      "outputs": []
    },
    {
      "cell_type": "code",
      "metadata": {
        "id": "C7lEMggaFPC-"
      },
      "source": [
        "yts = ql.RelinkableYieldTermStructureHandle()\n",
        "\n",
        "instruments = [\n",
        "    ('depo', '6M', 0.025),\n",
        "    ('fra', '6M', 0.03),\n",
        "    ('swap', '1Y', 0.031),\n",
        "    ('swap', '2Y', 0.032),\n",
        "    ('swap', '3Y', 0.035)\n",
        "]\n",
        "\n",
        "helpers = ql.RateHelperVector()\n",
        "index = ql.Euribor6M(yts)\n",
        "for instrument, tenor, rate in instruments:\n",
        "    if instrument == 'depo':\n",
        "        helpers.append( ql.DepositRateHelper(rate, index) )\n",
        "    if instrument == 'fra':\n",
        "        monthsToStart = ql.Period(tenor).length()\n",
        "        helpers.append( ql.FraRateHelper(rate, monthsToStart, index) )\n",
        "    if instrument == 'swap':\n",
        "        swapIndex = ql.EuriborSwapIsdaFixA(ql.Period(tenor))\n",
        "        helpers.append( ql.SwapRateHelper(rate, swapIndex))\n",
        "curve = ql.PiecewiseLogCubicDiscount(2, ql.TARGET(), helpers, ql.ActualActual())\n"
      ],
      "execution_count": null,
      "outputs": []
    },
    {
      "cell_type": "code",
      "metadata": {
        "id": "daJbFRq8FUHm"
      },
      "source": [
        "yts.linkTo(curve)\n",
        "engine = ql.DiscountingSwapEngine(yts)\n"
      ],
      "execution_count": null,
      "outputs": []
    },
    {
      "cell_type": "code",
      "metadata": {
        "id": "0XzyEeY9FWCX"
      },
      "source": [
        "tenor = ql.Period('2y')\n",
        "fixedRate = 0.05\n",
        "forwardStart = ql.Period(\"2D\")\n",
        "\n",
        "swap = ql.MakeVanillaSwap(tenor, index, fixedRate, forwardStart, Nominal=10e6, pricingEngine=engine)\n"
      ],
      "execution_count": null,
      "outputs": []
    },
    {
      "cell_type": "code",
      "metadata": {
        "id": "MUUBMQ0QFX1O"
      },
      "source": [
        "fairRate = swap.fairRate()\n",
        "npv = swap.NPV()\n",
        "\n",
        "print(f\"Fair swap rate: {fairRate:.3%}\")\n",
        "print(f\"Swap NPV: {npv:,.3f}\")"
      ],
      "execution_count": null,
      "outputs": []
    },
    {
      "cell_type": "code",
      "metadata": {
        "id": "Gxf4jYdFFbI-"
      },
      "source": [
        "import pandas as pd\n",
        "pd.options.display.float_format = \"{:,.2f}\".format\n",
        "\n",
        "cashflows = pd.DataFrame({\n",
        "    'date': cf.date(),\n",
        "    'amount': cf.amount()\n",
        "    } for cf in swap.leg(1))\n",
        "display(cashflows)"
      ],
      "execution_count": null,
      "outputs": []
    },
    {
      "cell_type": "code",
      "metadata": {
        "id": "9WQl3Uh8Feu_"
      },
      "source": [
        "cashflows = pd.DataFrame({\n",
        "    'nominal': cf.nominal(),\n",
        "    'accrualStartDate': cf.accrualStartDate().ISO(),\n",
        "    'accrualEndDate': cf.accrualEndDate().ISO(),\n",
        "    'rate': cf.rate(),\n",
        "    'amount': cf.amount()\n",
        "    } for cf in map(ql.as_coupon, swap.leg(1)))\n",
        "display(cashflows)"
      ],
      "execution_count": null,
      "outputs": []
    }
  ]
}