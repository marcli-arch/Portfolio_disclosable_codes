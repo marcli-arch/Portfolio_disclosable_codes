{
  "cells": [
    {
      "cell_type": "code",
      "source": [
        "!pip install perceval-quandela -q"
      ],
      "metadata": {
        "id": "f78rUYvpVGV_"
      },
      "execution_count": null,
      "outputs": []
    },
    {
      "cell_type": "code",
      "execution_count": null,
      "metadata": {
        "id": "e_mW438qf-O-"
      },
      "outputs": [],
      "source": [
        "import math\n",
        "import numpy as np\n",
        "from ast import literal_eval\n",
        "import matplotlib.pyplot as plt\n",
        "import pandas as pd\n",
        "import perceval as pcvl\n",
        "from perceval.components import BS, PS"
      ]
    },
    {
      "cell_type": "markdown",
      "source": [
        "### Problem Statement: CP for A*u + noise\n",
        "\n",
        "We are studying with a noisy matrix-vector product:\n",
        "\n",
        "$$\n",
        "y = A \\cdot u + \\text{noise}(A, u)\n",
        "$$\n",
        "\n",
        "Where:\n",
        "- $ A $ is a matrix.\n",
        "- $ u $ is a vector.\n",
        "- The term $ \\text{noise}(A, u) $ introduces variability into the outcome.\n",
        "\n",
        "In the context of **split conformal prediction**, we are looking to create a prediction interval for $ y $, given the model $ y = A \\cdot u $ and noise. The goal is to predict $ y $ while accounting for the uncertainty introduced by the noise.\n",
        "\n",
        "**Does split conformal prediction in this specific case keep coverage guarantee?**\n",
        "\n",
        "\n",
        "1. **Fixed Predictor**:  \n",
        "   The function $ f(A, u) $ that maps $ (A, u) $ to $ y $ is fixed in the sense that, given a pair $ (A, u) $, we know exactly what the model should output (if there were no noise). The variability comes from the noise term.\n",
        "\n",
        "   $$\n",
        "   y = A \\cdot u + \\text{noise}(A, u)\n",
        "   $$\n",
        "\n",
        "2. **Calibration**:  \n",
        "   Since the fundamental idea of split conformal prediction is to calibrate the non-conformity score based on the calibration set:\n",
        "   - First, we compute the residuals (the difference between the predicted and true values) on the calibration set, i.e., the difference between $ A \\cdot u $ and the noisy $ y $.\n",
        "   - Then, we calculate a threshold for the non-conformity score.\n",
        "\n",
        "3. **Residuals**:  \n",
        "   In the case of the noisy matrix-vector product $ y = A \\cdot u + \\text{noise}(A, u) $, the residuals are the differences between the predicted values and the actual noisy observations.\n",
        "\n",
        "   - **Predicted value**: $ \\hat{y} = A \\cdot u $ (without the noise).\n",
        "   - **Observed value**: $ y = A \\cdot u + \\text{noise}(A, u) $.\n",
        "\n",
        "   Thus, the residual for a given pair $ (A, u) $ is:\n",
        "\n",
        "   $$\n",
        "   \\text{residual} = |y - \\hat{y}| = |(A \\cdot u + \\text{noise}(A, u)) - A \\cdot u| = |\\text{noise}(A, u)|\n",
        "   $$\n",
        "\n",
        "   $$\n",
        "   \\text{residual} = |\\text{noise}(A, u)|\n",
        "   $$\n",
        "\n",
        "   So the residuals represent the noise added to the matrix-vector product, which we want to capture when calibrating the model for conformal prediction.\n",
        "\n",
        "### Types of Noise\n",
        "\n",
        "In this problem, we are using two types of noise to explore how they affect the split conformal prediction procedure:\n",
        "\n",
        "1. **i.i.d. Uniform Noise**:  \n",
        "   This is a standard type of noise, where each noise term for every element in the matrix-vector product is drawn independently from an Uniform distribution, therefore we would keep exchangeability among residuals.\n",
        "\n",
        "2. **Non-exchangeable Noise**:  \n",
        "   In this case, the noise increases linearly with the index. For instance, the noise term for each element in the matrix-vector product grows as the index increases, i.e., the noise at index $ i $ might be proportional to $ i $. This is not exchangeable noise, as the noise magnitude depends on the position in the vector or matrix. (Not implemented in this version)\n",
        "\n"
      ],
      "metadata": {
        "id": "EffYOMX7Lgs1"
      }
    },
    {
      "cell_type": "markdown",
      "source": [
        "## Conformal Inference"
      ],
      "metadata": {
        "id": "_xniO2zG-TkR"
      }
    },
    {
      "cell_type": "markdown",
      "source": [
        "### Parameters"
      ],
      "metadata": {
        "id": "N0c-jodaMAgl"
      }
    },
    {
      "cell_type": "code",
      "source": [
        "# Generating 100 samples of A (4x4 matrices) and u (4x1 vectors)\n",
        "num_samples = 100\n",
        "dim = 4\n",
        "\n",
        "#np.random.seed(0)\n",
        "\n",
        "# Adding noise to the y_true values using the add_noise function\n",
        "noise_type = 'iid'  # You can change to 'nonexchangeable_trend' if needed"
      ],
      "metadata": {
        "id": "fZ9M-3mhCCgv"
      },
      "execution_count": null,
      "outputs": []
    },
    {
      "cell_type": "markdown",
      "source": [
        "Genearating Unitary Matrices\n",
        "- https://perceval.quandela.net/docs/v0.11/circuits.html#unitary-matrices\n",
        "- https://perceval.quandela.net/docs/v0.11/reference/utils.html#perceval.utils.matrix.Matrix.random_unitary"
      ],
      "metadata": {
        "id": "0K7G9OXNBL4G"
      }
    },
    {
      "cell_type": "markdown",
      "source": [
        "#### Perceval example of photonic chip, unnecessary"
      ],
      "metadata": {
        "id": "ydvwJEGWZuzR"
      }
    },
    {
      "cell_type": "code",
      "source": [
        "#####################################################\n",
        "### VECTOR MATRIX MULTIPLICATION PHOTONIC EXAMPLE ###\n",
        "#####################################################\n",
        "\n",
        "# Define a 2x2 matrix (for simplicity)\n",
        "matrix = np.array([[1, 2],\n",
        "                   [3, 4]])\n",
        "\n",
        "# Create a circuit for 2 modes (2x2 matrix will operate on a 2-dimensional quantum state)\n",
        "circuit = pcvl.Circuit(2)\n",
        "\n",
        "# Apply phase shifts and beam splitters to simulate a unitary matrix transformation\n",
        "circuit.add((0, 1), pcvl.BS())  # Apply a beam splitter between modes 0 and 1\n",
        "circuit.add(0, pcvl.PS(np.pi / 4))  # Apply a phase shift on mode 0\n",
        "circuit.add(1, pcvl.PS(np.pi / 2))  # Apply a phase shift on mode 1\n",
        "\n",
        "# Define the input quantum state\n",
        "input_state = pcvl.BasicState([1, 0])  # Represents the state |0> on mode 0 and |1> on mode 1\n",
        "\n",
        "# Initialize the backend (SLOS or another appropriate backend)\n",
        "simulator = pcvl.BackendFactory().get_backend('SLOS')\n",
        "\n",
        "# Set the circuit in the simulator\n",
        "simulator.set_circuit(circuit)\n",
        "\n",
        "# Set the input state in the simulator\n",
        "simulator.set_input_state(input_state)\n",
        "\n",
        "# Perform the matrix-vector multiplication by running the circuit\n",
        "output_distribution = simulator.prob_distribution()  # No input state argument\n",
        "\n",
        "# Print the results (this is the equivalent of the result of matrix-vector multiplication)\n",
        "print(\"Input state:\", input_state)\n",
        "print(\"Output distribution:\")\n",
        "for output_state, probability in output_distribution.items():\n",
        "    print(f\"{output_state}: {probability:.4f}\")"
      ],
      "metadata": {
        "colab": {
          "base_uri": "https://localhost:8080/"
        },
        "id": "L6Wp5FABzUJA",
        "outputId": "e9f45b14-c2a2-422f-f404-67a90e9cdc08"
      },
      "execution_count": null,
      "outputs": [
        {
          "output_type": "stream",
          "name": "stdout",
          "text": [
            "Input state: |1,0>\n",
            "Output distribution:\n",
            "|1,0>: 0.5000\n",
            "|0,1>: 0.5000\n"
          ]
        }
      ]
    },
    {
      "cell_type": "markdown",
      "source": [
        "### Real data from Quix chip"
      ],
      "metadata": {
        "id": "-PuPyfwiyNkd"
      }
    },
    {
      "cell_type": "code",
      "source": [
        "quix_data = pd.read_csv('/content/drive/MyDrive/Measurment.csv')[[\"Expected\",\"Measured\"]]\n",
        "quix_data_shuffled = quix_data.sample(frac=1).reset_index(drop=True)\n",
        "\n",
        "# Convert string representations of lists into actual lists\n",
        "quix_data_shuffled['Expected'] = quix_data_shuffled['Expected'].apply(literal_eval)\n",
        "quix_data_shuffled['Measured'] = quix_data_shuffled['Measured'].apply(literal_eval)\n",
        "\n",
        "quix_data_shuffled.head(5)"
      ],
      "metadata": {
        "colab": {
          "base_uri": "https://localhost:8080/",
          "height": 206
        },
        "id": "87m0R9RxyWca",
        "outputId": "084bda93-6605-482c-a5a7-49d5545023b5"
      },
      "execution_count": null,
      "outputs": [
        {
          "output_type": "execute_result",
          "data": {
            "text/plain": [
              "         Expected         Measured\n",
              "0  [0.056, 2.584]  [-0.017, 2.484]\n",
              "1   [1.111, 1.84]   [1.002, 1.574]\n",
              "2  [0.472, 6.187]   [0.042, 2.441]\n",
              "3  [1.242, 1.205]   [1.246, 1.274]\n",
              "4  [0.265, 1.179]   [2.387, 0.279]"
            ],
            "text/html": [
              "\n",
              "  <div id=\"df-49d5dcf2-05fc-4ad5-b22e-9115e0e859f8\" class=\"colab-df-container\">\n",
              "    <div>\n",
              "<style scoped>\n",
              "    .dataframe tbody tr th:only-of-type {\n",
              "        vertical-align: middle;\n",
              "    }\n",
              "\n",
              "    .dataframe tbody tr th {\n",
              "        vertical-align: top;\n",
              "    }\n",
              "\n",
              "    .dataframe thead th {\n",
              "        text-align: right;\n",
              "    }\n",
              "</style>\n",
              "<table border=\"1\" class=\"dataframe\">\n",
              "  <thead>\n",
              "    <tr style=\"text-align: right;\">\n",
              "      <th></th>\n",
              "      <th>Expected</th>\n",
              "      <th>Measured</th>\n",
              "    </tr>\n",
              "  </thead>\n",
              "  <tbody>\n",
              "    <tr>\n",
              "      <th>0</th>\n",
              "      <td>[0.056, 2.584]</td>\n",
              "      <td>[-0.017, 2.484]</td>\n",
              "    </tr>\n",
              "    <tr>\n",
              "      <th>1</th>\n",
              "      <td>[1.111, 1.84]</td>\n",
              "      <td>[1.002, 1.574]</td>\n",
              "    </tr>\n",
              "    <tr>\n",
              "      <th>2</th>\n",
              "      <td>[0.472, 6.187]</td>\n",
              "      <td>[0.042, 2.441]</td>\n",
              "    </tr>\n",
              "    <tr>\n",
              "      <th>3</th>\n",
              "      <td>[1.242, 1.205]</td>\n",
              "      <td>[1.246, 1.274]</td>\n",
              "    </tr>\n",
              "    <tr>\n",
              "      <th>4</th>\n",
              "      <td>[0.265, 1.179]</td>\n",
              "      <td>[2.387, 0.279]</td>\n",
              "    </tr>\n",
              "  </tbody>\n",
              "</table>\n",
              "</div>\n",
              "    <div class=\"colab-df-buttons\">\n",
              "\n",
              "  <div class=\"colab-df-container\">\n",
              "    <button class=\"colab-df-convert\" onclick=\"convertToInteractive('df-49d5dcf2-05fc-4ad5-b22e-9115e0e859f8')\"\n",
              "            title=\"Convert this dataframe to an interactive table.\"\n",
              "            style=\"display:none;\">\n",
              "\n",
              "  <svg xmlns=\"http://www.w3.org/2000/svg\" height=\"24px\" viewBox=\"0 -960 960 960\">\n",
              "    <path d=\"M120-120v-720h720v720H120Zm60-500h600v-160H180v160Zm220 220h160v-160H400v160Zm0 220h160v-160H400v160ZM180-400h160v-160H180v160Zm440 0h160v-160H620v160ZM180-180h160v-160H180v160Zm440 0h160v-160H620v160Z\"/>\n",
              "  </svg>\n",
              "    </button>\n",
              "\n",
              "  <style>\n",
              "    .colab-df-container {\n",
              "      display:flex;\n",
              "      gap: 12px;\n",
              "    }\n",
              "\n",
              "    .colab-df-convert {\n",
              "      background-color: #E8F0FE;\n",
              "      border: none;\n",
              "      border-radius: 50%;\n",
              "      cursor: pointer;\n",
              "      display: none;\n",
              "      fill: #1967D2;\n",
              "      height: 32px;\n",
              "      padding: 0 0 0 0;\n",
              "      width: 32px;\n",
              "    }\n",
              "\n",
              "    .colab-df-convert:hover {\n",
              "      background-color: #E2EBFA;\n",
              "      box-shadow: 0px 1px 2px rgba(60, 64, 67, 0.3), 0px 1px 3px 1px rgba(60, 64, 67, 0.15);\n",
              "      fill: #174EA6;\n",
              "    }\n",
              "\n",
              "    .colab-df-buttons div {\n",
              "      margin-bottom: 4px;\n",
              "    }\n",
              "\n",
              "    [theme=dark] .colab-df-convert {\n",
              "      background-color: #3B4455;\n",
              "      fill: #D2E3FC;\n",
              "    }\n",
              "\n",
              "    [theme=dark] .colab-df-convert:hover {\n",
              "      background-color: #434B5C;\n",
              "      box-shadow: 0px 1px 3px 1px rgba(0, 0, 0, 0.15);\n",
              "      filter: drop-shadow(0px 1px 2px rgba(0, 0, 0, 0.3));\n",
              "      fill: #FFFFFF;\n",
              "    }\n",
              "  </style>\n",
              "\n",
              "    <script>\n",
              "      const buttonEl =\n",
              "        document.querySelector('#df-49d5dcf2-05fc-4ad5-b22e-9115e0e859f8 button.colab-df-convert');\n",
              "      buttonEl.style.display =\n",
              "        google.colab.kernel.accessAllowed ? 'block' : 'none';\n",
              "\n",
              "      async function convertToInteractive(key) {\n",
              "        const element = document.querySelector('#df-49d5dcf2-05fc-4ad5-b22e-9115e0e859f8');\n",
              "        const dataTable =\n",
              "          await google.colab.kernel.invokeFunction('convertToInteractive',\n",
              "                                                    [key], {});\n",
              "        if (!dataTable) return;\n",
              "\n",
              "        const docLinkHtml = 'Like what you see? Visit the ' +\n",
              "          '<a target=\"_blank\" href=https://colab.research.google.com/notebooks/data_table.ipynb>data table notebook</a>'\n",
              "          + ' to learn more about interactive tables.';\n",
              "        element.innerHTML = '';\n",
              "        dataTable['output_type'] = 'display_data';\n",
              "        await google.colab.output.renderOutput(dataTable, element);\n",
              "        const docLink = document.createElement('div');\n",
              "        docLink.innerHTML = docLinkHtml;\n",
              "        element.appendChild(docLink);\n",
              "      }\n",
              "    </script>\n",
              "  </div>\n",
              "\n",
              "\n",
              "<div id=\"df-5080a363-cb4f-411b-955f-290e050dc9a6\">\n",
              "  <button class=\"colab-df-quickchart\" onclick=\"quickchart('df-5080a363-cb4f-411b-955f-290e050dc9a6')\"\n",
              "            title=\"Suggest charts\"\n",
              "            style=\"display:none;\">\n",
              "\n",
              "<svg xmlns=\"http://www.w3.org/2000/svg\" height=\"24px\"viewBox=\"0 0 24 24\"\n",
              "     width=\"24px\">\n",
              "    <g>\n",
              "        <path d=\"M19 3H5c-1.1 0-2 .9-2 2v14c0 1.1.9 2 2 2h14c1.1 0 2-.9 2-2V5c0-1.1-.9-2-2-2zM9 17H7v-7h2v7zm4 0h-2V7h2v10zm4 0h-2v-4h2v4z\"/>\n",
              "    </g>\n",
              "</svg>\n",
              "  </button>\n",
              "\n",
              "<style>\n",
              "  .colab-df-quickchart {\n",
              "      --bg-color: #E8F0FE;\n",
              "      --fill-color: #1967D2;\n",
              "      --hover-bg-color: #E2EBFA;\n",
              "      --hover-fill-color: #174EA6;\n",
              "      --disabled-fill-color: #AAA;\n",
              "      --disabled-bg-color: #DDD;\n",
              "  }\n",
              "\n",
              "  [theme=dark] .colab-df-quickchart {\n",
              "      --bg-color: #3B4455;\n",
              "      --fill-color: #D2E3FC;\n",
              "      --hover-bg-color: #434B5C;\n",
              "      --hover-fill-color: #FFFFFF;\n",
              "      --disabled-bg-color: #3B4455;\n",
              "      --disabled-fill-color: #666;\n",
              "  }\n",
              "\n",
              "  .colab-df-quickchart {\n",
              "    background-color: var(--bg-color);\n",
              "    border: none;\n",
              "    border-radius: 50%;\n",
              "    cursor: pointer;\n",
              "    display: none;\n",
              "    fill: var(--fill-color);\n",
              "    height: 32px;\n",
              "    padding: 0;\n",
              "    width: 32px;\n",
              "  }\n",
              "\n",
              "  .colab-df-quickchart:hover {\n",
              "    background-color: var(--hover-bg-color);\n",
              "    box-shadow: 0 1px 2px rgba(60, 64, 67, 0.3), 0 1px 3px 1px rgba(60, 64, 67, 0.15);\n",
              "    fill: var(--button-hover-fill-color);\n",
              "  }\n",
              "\n",
              "  .colab-df-quickchart-complete:disabled,\n",
              "  .colab-df-quickchart-complete:disabled:hover {\n",
              "    background-color: var(--disabled-bg-color);\n",
              "    fill: var(--disabled-fill-color);\n",
              "    box-shadow: none;\n",
              "  }\n",
              "\n",
              "  .colab-df-spinner {\n",
              "    border: 2px solid var(--fill-color);\n",
              "    border-color: transparent;\n",
              "    border-bottom-color: var(--fill-color);\n",
              "    animation:\n",
              "      spin 1s steps(1) infinite;\n",
              "  }\n",
              "\n",
              "  @keyframes spin {\n",
              "    0% {\n",
              "      border-color: transparent;\n",
              "      border-bottom-color: var(--fill-color);\n",
              "      border-left-color: var(--fill-color);\n",
              "    }\n",
              "    20% {\n",
              "      border-color: transparent;\n",
              "      border-left-color: var(--fill-color);\n",
              "      border-top-color: var(--fill-color);\n",
              "    }\n",
              "    30% {\n",
              "      border-color: transparent;\n",
              "      border-left-color: var(--fill-color);\n",
              "      border-top-color: var(--fill-color);\n",
              "      border-right-color: var(--fill-color);\n",
              "    }\n",
              "    40% {\n",
              "      border-color: transparent;\n",
              "      border-right-color: var(--fill-color);\n",
              "      border-top-color: var(--fill-color);\n",
              "    }\n",
              "    60% {\n",
              "      border-color: transparent;\n",
              "      border-right-color: var(--fill-color);\n",
              "    }\n",
              "    80% {\n",
              "      border-color: transparent;\n",
              "      border-right-color: var(--fill-color);\n",
              "      border-bottom-color: var(--fill-color);\n",
              "    }\n",
              "    90% {\n",
              "      border-color: transparent;\n",
              "      border-bottom-color: var(--fill-color);\n",
              "    }\n",
              "  }\n",
              "</style>\n",
              "\n",
              "  <script>\n",
              "    async function quickchart(key) {\n",
              "      const quickchartButtonEl =\n",
              "        document.querySelector('#' + key + ' button');\n",
              "      quickchartButtonEl.disabled = true;  // To prevent multiple clicks.\n",
              "      quickchartButtonEl.classList.add('colab-df-spinner');\n",
              "      try {\n",
              "        const charts = await google.colab.kernel.invokeFunction(\n",
              "            'suggestCharts', [key], {});\n",
              "      } catch (error) {\n",
              "        console.error('Error during call to suggestCharts:', error);\n",
              "      }\n",
              "      quickchartButtonEl.classList.remove('colab-df-spinner');\n",
              "      quickchartButtonEl.classList.add('colab-df-quickchart-complete');\n",
              "    }\n",
              "    (() => {\n",
              "      let quickchartButtonEl =\n",
              "        document.querySelector('#df-5080a363-cb4f-411b-955f-290e050dc9a6 button');\n",
              "      quickchartButtonEl.style.display =\n",
              "        google.colab.kernel.accessAllowed ? 'block' : 'none';\n",
              "    })();\n",
              "  </script>\n",
              "</div>\n",
              "\n",
              "    </div>\n",
              "  </div>\n"
            ],
            "application/vnd.google.colaboratory.intrinsic+json": {
              "type": "dataframe",
              "variable_name": "quix_data_shuffled",
              "summary": "{\n  \"name\": \"quix_data_shuffled\",\n  \"rows\": 400,\n  \"fields\": [\n    {\n      \"column\": \"Expected\",\n      \"properties\": {\n        \"dtype\": \"object\",\n        \"semantic_type\": \"\",\n        \"description\": \"\"\n      }\n    },\n    {\n      \"column\": \"Measured\",\n      \"properties\": {\n        \"dtype\": \"object\",\n        \"semantic_type\": \"\",\n        \"description\": \"\"\n      }\n    }\n  ]\n}"
            }
          },
          "metadata": {},
          "execution_count": 23
        }
      ]
    },
    {
      "cell_type": "code",
      "source": [
        "len(quix_data_shuffled)"
      ],
      "metadata": {
        "colab": {
          "base_uri": "https://localhost:8080/"
        },
        "id": "kz261DsVyVvj",
        "outputId": "c06b2874-a6d4-471c-d2d9-38e4de0ddd93"
      },
      "execution_count": null,
      "outputs": [
        {
          "output_type": "execute_result",
          "data": {
            "text/plain": [
              "400"
            ]
          },
          "metadata": {},
          "execution_count": 24
        }
      ]
    },
    {
      "cell_type": "markdown",
      "source": [
        "### Data generation"
      ],
      "metadata": {
        "id": "lVspNW6-MKty"
      }
    },
    {
      "cell_type": "code",
      "source": [
        "def add_noise(y_true, noise_type):\n",
        "    if noise_type == 'iid':\n",
        "        noise = np.random.uniform(0, 1, size=y_true.shape)  # iid uniform noise\n",
        "    #elif noise_type == 'nonexchangeable_trend':\n",
        "    #    noise = 100 * (np.arange(len(y_true))**2) + np.random.normal(0, 0.5, size=y_true.shape)  # Increasing noise with trend component\n",
        "    return y_true + noise"
      ],
      "metadata": {
        "id": "Yrvow0B6kbI2"
      },
      "execution_count": null,
      "outputs": []
    },
    {
      "cell_type": "code",
      "source": [
        "def generate_unitary_matrices_data(num_samples, dim, noise_type=None):\n",
        "    \"\"\"\n",
        "    Generates a dataset of unitary matrices and input/output vectors.\n",
        "\n",
        "    Args:\n",
        "        num_samples (int): Number of samples to generate.\n",
        "        dim (int): Dimension of the unitary matrices.\n",
        "        noise_type (str or None): Type of noise to apply. If None, no noise is added.\n",
        "\n",
        "    Returns:\n",
        "        list: A list of tuples (y_noisy, y_true), where:\n",
        "            - y_noisy is the output vector with noise.\n",
        "            - y_true is the noise-free output vector.\n",
        "    \"\"\"\n",
        "    # Generate unitary matrices\n",
        "    A_samples = [pcvl.Matrix.random_unitary(dim) for _ in range(num_samples)]\n",
        "\n",
        "    # Generate random input vectors\n",
        "    u_samples = np.random.uniform(0, 1, (num_samples, dim))\n",
        "    u_samples = u_samples / np.linalg.norm(u_samples, axis=1, keepdims=True)  # Normalize\n",
        "\n",
        "    # Compute output vectors (y_true = A * u)\n",
        "    y_true_samples = np.array([np.dot(A, u) for A, u in zip(A_samples, u_samples)])\n",
        "\n",
        "    # Add noise if specified\n",
        "    if noise_type:\n",
        "        y_noisy_samples = np.array([add_noise(y_true, noise_type) for y_true in y_true_samples])\n",
        "    else:\n",
        "        y_noisy_samples = y_true_samples\n",
        "\n",
        "    # Create the dataset as a list of tuples\n",
        "    dataset = list(zip(y_noisy_samples, y_true_samples))\n",
        "    return dataset"
      ],
      "metadata": {
        "id": "tfOhxS2VXCpY"
      },
      "execution_count": null,
      "outputs": []
    },
    {
      "cell_type": "code",
      "source": [
        "def generate_data(num_samples, dim, noise_type):\n",
        "    # Generate random matrices A and vectors u\n",
        "    A_samples = np.random.uniform(0, 1, (num_samples, dim, dim))  # 100 matrices of size 4x4\n",
        "    u_samples = np.random.uniform(0, 1, (num_samples, dim))       # 100 vectors  of size 4x1\n",
        "\n",
        "    # Generating y_true values for each sample (y_true = A * u)\n",
        "    y_true_samples  = np.array([np.dot(A, u) for A, u in zip(A_samples, u_samples)])\n",
        "    y_noisy_samples = np.array([add_noise(y_true, noise_type) for y_true in y_true_samples])\n",
        "\n",
        "    dataset = list(zip(y_noisy_samples, y_true_samples))\n",
        "\n",
        "    return dataset"
      ],
      "metadata": {
        "id": "2eqXOzr0Ahn6"
      },
      "execution_count": null,
      "outputs": []
    },
    {
      "cell_type": "code",
      "source": [
        "# Generate set with 100 noisy output vectors and 100 non-noisy output vectors\n",
        "#dataset = generate_data(100, 4, 'iid')\n",
        "dataset = generate_unitary_matrices_data(100, 4, 'iid') #'iid' or None\n",
        "\n",
        "# Extract first sample\n",
        "noisy, true = dataset[0]\n",
        "\n",
        "# Print dataset size and shapes of components\n",
        "print(f\"Number of samples in dataset: {len(dataset)}\")\n",
        "print(f\"Shape of noisy vectors: {noisy.shape}\")\n",
        "print(f\"Shape of non-noisy vectors): {true.shape}\")"
      ],
      "metadata": {
        "colab": {
          "base_uri": "https://localhost:8080/"
        },
        "id": "SZ-YhTBKqgsR",
        "outputId": "2886441f-6527-42fb-9274-e3abcde9e257"
      },
      "execution_count": null,
      "outputs": [
        {
          "output_type": "stream",
          "name": "stdout",
          "text": [
            "Number of samples in dataset: 100\n",
            "Shape of noisy vectors: (4,)\n",
            "Shape of non-noisy vectors): (4,)\n"
          ]
        }
      ]
    },
    {
      "cell_type": "markdown",
      "source": [
        "### Splitting of data & Model training"
      ],
      "metadata": {
        "id": "FK7r8FUSMWoj"
      }
    },
    {
      "cell_type": "code",
      "source": [
        "np.random.shuffle(dataset)\n",
        "\n",
        "train_data = dataset[:int(0.7*len(dataset))]                             # 70% for model training\n",
        "calibration_data = dataset[int(0.7*len(dataset)):int(0.9*len(dataset))]  # 20% for conformal calibration\n",
        "test_data = dataset[int(0.9*len(dataset)):]                              # 10% for conformal testing\n",
        "\n",
        "X_train_noisy, Y_train_true = zip(*train_data)\n",
        "X_calibration_noisy, Y_calibration_true = zip(*calibration_data)\n",
        "X_test_noisy, Y_test_true = zip(*test_data)\n",
        "\n",
        "# Tuples to arrays\n",
        "X_train_noisy, Y_train_true = np.array(X_train_noisy), np.array(Y_train_true)\n",
        "X_calibration_noisy, Y_calibration_true = np.array(X_calibration_noisy), np.array(Y_calibration_true)\n",
        "X_test_noisy, Y_test_true = np.array(X_test_noisy), np.array(Y_test_true)"
      ],
      "metadata": {
        "id": "BySg3Fkrpu-r"
      },
      "execution_count": null,
      "outputs": []
    },
    {
      "cell_type": "code",
      "source": [
        "# Train a model\n",
        "model_coef = np.linalg.lstsq(X_train_noisy, Y_train_true, rcond=None)[0]  # Least squares solution"
      ],
      "metadata": {
        "id": "vQ9NgVGdtZmS"
      },
      "execution_count": null,
      "outputs": []
    },
    {
      "cell_type": "markdown",
      "source": [
        "#### Splitting of Quix data"
      ],
      "metadata": {
        "id": "iuxeDi9g2P4B"
      }
    },
    {
      "cell_type": "code",
      "source": [
        "calibration_data_quix = quix_data_shuffled[:int(0.5*len(quix_data_shuffled))]    # 50% for conformal calibration\n",
        "test_data_quix = quix_data_shuffled[int(0.5*len(quix_data_shuffled)):]           # 50% for conformal testing\n",
        "\n",
        "X_calibration_noisy = np.array(calibration_data_quix[\"Measured\"].tolist())\n",
        "Y_calibration_true = np.array(calibration_data_quix[\"Expected\"].tolist())\n",
        "\n",
        "X_test_noisy = np.array(test_data_quix[\"Measured\"].tolist())\n",
        "Y_test_true = np.array(test_data_quix[\"Expected\"].tolist())"
      ],
      "metadata": {
        "id": "pTAnHv612Uk4"
      },
      "execution_count": null,
      "outputs": []
    },
    {
      "cell_type": "markdown",
      "source": [
        "### Split Conformal Prediction"
      ],
      "metadata": {
        "id": "Q3bTM9r7MueJ"
      }
    },
    {
      "cell_type": "code",
      "source": [
        "def split_conformal_prediction_with_test(X_calib, model_coef, Y_calib, alpha_value):\n",
        "\n",
        "    y_pred_calib = X_calib#np.dot(X_calib, model_coef)\n",
        "\n",
        "    # Compute residuals\n",
        "    residuals = np.abs(Y_calib - y_pred_calib)\n",
        "\n",
        "    ### As an approximation will take the norm among the 4 dimensions\n",
        "    residuals_reduced = np.linalg.norm(residuals, axis=1)\n",
        "\n",
        "    # Quantile 1-alpha\n",
        "    ### Is this correct or do I have to have 1 threshold per dimension?\n",
        "    #q_alpha = np.percentile(residuals, 100 * (1 - alpha_cp))\n",
        "\n",
        "    q_alpha = np.percentile(residuals_reduced, 100 * (1 - alpha_cp))\n",
        "\n",
        "    return q_alpha"
      ],
      "metadata": {
        "id": "JB_4kzubwKRv"
      },
      "execution_count": null,
      "outputs": []
    },
    {
      "cell_type": "code",
      "source": [
        "# Empirical coverage and average prediction interval size\n",
        "def compute_coverage_and_interval_size(X_test, model_coef, Y_test, q_alpha):\n",
        "\n",
        "    y_pred = X_test#np.dot(X_test, model_coef)\n",
        "\n",
        "    lower_bound = y_pred - q_alpha\n",
        "    upper_bound = y_pred + q_alpha\n",
        "\n",
        "    residuals_test_set = np.abs(Y_test - y_pred)\n",
        "    residuals_test_set = np.linalg.norm(residuals_test_set, axis=1)\n",
        "\n",
        "    pred_test_set = np.abs(Y_test)\n",
        "    pred_norm_test_set = np.linalg.norm(pred_test_set, axis=1)\n",
        "\n",
        "    # Empirical coverage: percentage of true values within the prediction intervals\n",
        "    coverage = np.mean((Y_test >= lower_bound) & (Y_test <= upper_bound)) * 100 # Element-wise comparation\n",
        "\n",
        "    # Average prediction interval size\n",
        "    avg_interval_size = np.mean(upper_bound - lower_bound)\n",
        "\n",
        "    return coverage, avg_interval_size, lower_bound, upper_bound, q_alpha, y_pred, residuals_test_set, pred_norm_test_set"
      ],
      "metadata": {
        "id": "8jzAyl_Zxfm6"
      },
      "execution_count": null,
      "outputs": []
    },
    {
      "cell_type": "markdown",
      "source": [
        "### Permutation test (over labels/measurements)"
      ],
      "metadata": {
        "id": "e6DtBRoCDHmQ"
      }
    },
    {
      "cell_type": "markdown",
      "source": [
        "Permutation test asseses the only condition for CP, exchangeability of data(labels) to check for indepence among observations, ie that there are no underlying dependecies in the data (DeFinetti...)"
      ],
      "metadata": {
        "id": "NoF84pPUVh5x"
      }
    },
    {
      "cell_type": "code",
      "source": [
        "N = len(X_test_noisy)\n",
        "max_permutations = math.factorial(N)\n",
        "\n",
        "print(N, max_permutations)"
      ],
      "metadata": {
        "colab": {
          "base_uri": "https://localhost:8080/"
        },
        "id": "BhpqT-uRTyZx",
        "outputId": "ed0dfa62-cf8e-4c65-8a33-986f86f92011"
      },
      "execution_count": null,
      "outputs": [
        {
          "output_type": "stream",
          "name": "stdout",
          "text": [
            "200 788657867364790503552363213932185062295135977687173263294742533244359449963403342920304284011984623904177212138919638830257642790242637105061926624952829931113462857270763317237396988943922445621451664240254033291864131227428294853277524242407573903240321257405579568660226031904170324062351700858796178922222789623703897374720000000000000000000000000000000000000000000000000\n"
          ]
        }
      ]
    },
    {
      "cell_type": "code",
      "source": [
        "Y_pred = X_test_noisy\n",
        "Y_meas = Y_test_true\n",
        "\n",
        "# Computing the residual as the diff between vectors and taking the norm as unique parameter/statistic\n",
        "def mean_euclidean_distance(A, B):\n",
        "    return np.mean(np.linalg.norm(A - B, axis=1))\n",
        "\n",
        "# Observed distance/residual in initial data\n",
        "D_obs = mean_euclidean_distance(Y_pred, Y_meas)\n",
        "\n",
        "# Permutation test\n",
        "num_permutations = 10000\n",
        "D_perm = []\n",
        "\n",
        "for _ in range(num_permutations):\n",
        "    permuted = Y_meas.copy()\n",
        "    np.random.shuffle(permuted)\n",
        "    D_perm.append(mean_euclidean_distance(Y_pred, permuted))\n",
        "\n",
        "D_perm = np.array(D_perm)\n",
        "\n",
        "# p-value\n",
        "p_value = np.mean(D_perm >= D_obs)\n",
        "\n",
        "# Result\n",
        "print(f\"Observed distance/residual: {D_obs:.4f}\")\n",
        "print(f\"p-value: {p_value:.4f}\")\n",
        "\n",
        "if p_value < 0.05:\n",
        "    print(\"We reject the null hypothesis of Exchangeability.\")\n",
        "else:\n",
        "    print(\"No sufficient evidence to reject Exchangeability.\")"
      ],
      "metadata": {
        "colab": {
          "base_uri": "https://localhost:8080/"
        },
        "id": "q8zbxOj_PUpu",
        "outputId": "004919ac-abd9-42d5-d65a-dce32c466957"
      },
      "execution_count": null,
      "outputs": [
        {
          "output_type": "stream",
          "name": "stdout",
          "text": [
            "Observed distance/residual: 1.1455\n",
            "p-value: 1.0000\n",
            "No sufficient evidence to reject Exchangeability.\n"
          ]
        }
      ]
    },
    {
      "cell_type": "markdown",
      "source": [
        "# Conformal Prediction Results\n",
        "* $\\text{Coverage (empirical):} \\,  \\frac{1}{n} \\sum_{i \\in \\text{Test}} \\mathbb{I}\\left(y^*_i  \\in \\left[\\hat{y}_i + q_{1-\\alpha}, \\hat{y}_i - q_{1-\\alpha}\\right]\\right) \\cdot 100\\%$\n",
        "\n",
        "* $\\text{Average Size:} \\, \\frac{1}{n}\\sum_{i \\in \\text{Test}} \\left( \\text{Upper Bound}_i - \\text{Lower Bound}_i \\right)$\n",
        "\n",
        "* $\\text{Expected Relative Residual:} \\, \\mathbb{E}\\left[\\frac{\\|y_i - \\hat{y}_i\\|}{\\|\\hat{y}_i\\|}\\right] = \\frac{1}{n}\\sum_{i \\in \\text{Test}}\\frac{\\text{residuals}_i}{\\text{pred_norm}_i}$\n",
        "\n",
        "* $\\text{Expected Relative Interval Size:} \\, \\mathbb{E}\\left[\\frac{\\sqrt{2} \\cdot q_{1-\\alpha}}{\\|\\hat{y}_i\\|}\\right] = \\frac{1}{n}\\sum_{i \\in \\text{Test}}\\frac{\\sqrt{2} \\cdot q_{1-\\alpha}}{\\text{pred_norm}_i}$"
      ],
      "metadata": {
        "id": "6wtUq4lHAJci"
      }
    },
    {
      "cell_type": "markdown",
      "source": [
        "check comparing with ground truth Y_test"
      ],
      "metadata": {
        "id": "NB1PSkxg3Bim"
      }
    },
    {
      "cell_type": "code",
      "source": [
        "# Desired alpha/error level for Conformal Prediction\n",
        "alpha_cp   = 0.1\n",
        "\n",
        "q_alpha_iid = split_conformal_prediction_with_test(X_calib = X_calibration_noisy, model_coef = model_coef, Y_calib = Y_calibration_true, alpha_value=alpha_cp)\n",
        "coverage_iid, avg_size_iid, lower_bound_iid, upper_bound_iid, q_alpha, y_pred_idd, residuals_test_set, pred_norm_test_set = compute_coverage_and_interval_size(X_test_noisy, model_coef, Y_test_true, q_alpha_iid)\n",
        "\n",
        "max_abs_diff = np.max(np.abs(Y_test_true[:, 0] - Y_test_true[:, 1]))\n",
        "print(f' Coverage marginal: {coverage_iid}\\n Coverage (empirical) guarantee satisfied?: {coverage_iid >= (1-alpha_cp)*100}\\n Avg Interval Size: {(np.abs(avg_size_iid))} \\n Expected Relative Residual: {(np.mean(residuals_test_set/pred_norm_test_set))} \\n Expected Relative Interval Size: {(np.mean((np.sqrt(2)*q_alpha)/pred_norm_test_set))}')"
      ],
      "metadata": {
        "colab": {
          "base_uri": "https://localhost:8080/"
        },
        "id": "pS_OyLEzkPeH",
        "outputId": "3bcecd65-e0fb-45f6-c861-ab2b551550c8"
      },
      "execution_count": null,
      "outputs": [
        {
          "output_type": "stream",
          "name": "stdout",
          "text": [
            " Coverage marginal: 95.5\n",
            " Coverage (empirical) guarantee satisfied?: True\n",
            " Avg Interval Size: 5.117969851381282 \n",
            " Expected Relative Residual: 0.4721472064412991 \n",
            " Expected Relative Interval Size: 1.649903367993022\n"
          ]
        }
      ]
    }
  ],
  "metadata": {
    "colab": {
      "provenance": [],
      "collapsed_sections": [
        "ydvwJEGWZuzR"
      ],
      "toc_visible": true
    },
    "kernelspec": {
      "display_name": "Python 3",
      "name": "python3"
    },
    "language_info": {
      "name": "python"
    }
  },
  "nbformat": 4,
  "nbformat_minor": 0
}