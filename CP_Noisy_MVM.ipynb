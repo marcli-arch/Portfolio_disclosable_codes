{
  "cells": [
    {
      "cell_type": "code",
      "execution_count": null,
      "metadata": {
        "id": "e_mW438qf-O-"
      },
      "outputs": [],
      "source": [
        "import numpy as np\n",
        "import matplotlib.pyplot as plt\n",
        "import pandas as pd\n",
        "import math\n",
        "import random"
      ]
    },
    {
      "cell_type": "markdown",
      "source": [
        "### Problem Statement: CP for A*u + noise\n",
        "\n",
        "We are studying with a noisy matrix-vector multiplication:\n",
        "\n",
        "$$\n",
        "\\hat{y} = A \\cdot u + \\text{noise}(A, u)\n",
        "$$\n",
        "\n",
        "Where:\n",
        "- $ A $ is a matrix.\n",
        "- $ u $ is a vector.\n",
        "- The term $ \\text{noise}(A, u) $ introduces variability into the outcome.\n",
        "\n",
        "In the context of **split conformal prediction**, we are looking to create a prediction interval for $ \\hat{y} $, given the model $ \\hat{y} = A \\cdot u $ and noise. The goal is to predict $ \\hat{y} $ while accounting for the uncertainty introduced by the noise.\n",
        "\n",
        "**Does split conformal prediction in this specific case keep coverage guarantee?**\n",
        "\n",
        "\n",
        "1. **Fixed Predictor**:  \n",
        "   The function $ f(A, u) $ that maps $ (A, u) $ to $ y $ is fixed in the sense that, given a pair $ (A, u) $, we know exactly what the model should output (if there were no noise). The variability comes from the noise term.\n",
        "\n",
        "   $$\n",
        "   \\hat{y} = A \\cdot u + \\text{noise}(A, u)\n",
        "   $$\n",
        "\n",
        "2. **Calibration**:  \n",
        "   Since the fundamental idea of split conformal prediction is to calibrate the non-conformity score based on the calibration set:\n",
        "   - First, we compute the residuals (the difference between the predicted and true values) on the calibration set, i.e., the difference between $ A \\cdot u $ and the noisy $ \\hat{y} $.\n",
        "   - Then, we calculate a threshold for the non-conformity score.\n",
        "\n",
        "3. **Residuals**:  \n",
        "   In the case of the noisy matrix-vector product $ \\hat{y} = A \\cdot u + \\text{noise}(A, u) $, the residuals are the differences between the predicted values and the actual noisy observations.\n",
        "\n",
        "   - **Predicted value**: $ y^* = A \\cdot u $ (without the noise).\n",
        "   - **Observed value**: $ \\hat{y} = A \\cdot u + \\text{noise}(A, u) $.\n",
        "\n",
        "   Thus, the residual for a given pair $ (A, u) $ is:\n",
        "\n",
        "   $$\n",
        "   \\text{residual} = |\\hat{y} - y^*| = |(A \\cdot u + \\text{noise}(A, u)) - A \\cdot u| = |\\text{noise}(A, u)|\n",
        "   $$\n",
        "\n",
        "   $$\n",
        "   \\text{residual} = |\\text{noise}(A, u)|\n",
        "   $$\n",
        "\n",
        "   So the residuals represent the noise added to the matrix-vector product, which we want to capture when calibrating the model for conformal prediction.\n",
        "\n",
        "### Types of Noise\n",
        "\n",
        "In this problem, we are using two types of noise to explore how they affect the split conformal prediction procedure:\n",
        "\n",
        "1. **i.i.d. Uniform Noise**:  \n",
        "   This is a standard type of noise, where each noise term for every element in the matrix-vector product is drawn independently from an Uniform distribution, therefore we would keep exchangeability among residuals.\n",
        "\n",
        "2. **Non-exchangeable Noise**:  \n",
        "   In this case, the noise increases linearly with the index. For instance, the noise term for each element in the matrix-vector product grows as the index increases, i.e., the noise at index $ i $ might be proportional to $ i $. This is not exchangeable noise, as the noise magnitude depends on the position in the vector or matrix. (Not implemented in this version)\n",
        "\n"
      ],
      "metadata": {
        "id": "EffYOMX7Lgs1"
      }
    },
    {
      "cell_type": "markdown",
      "source": [
        "## Conformal Inference"
      ],
      "metadata": {
        "id": "_xniO2zG-TkR"
      }
    },
    {
      "cell_type": "markdown",
      "source": [
        "## Split Conformal Prediction and Exchangeability\n",
        "\n",
        "In **split conformal prediction**, we start with a dataset of **i.i.d.** observations:\n",
        "\n",
        "$$\n",
        "D = \\{(X_1, Y_1), \\dots, (X_n, Y_n), (X_{n+1}, Y_{n+1})\\}\n",
        "$$\n",
        "\n",
        "where $$(X_i, Y_i) \\sim P$$ are drawn from some unknown distribution \\( $P$ \\).\n",
        "\n",
        "### Dataset Splitting\n",
        "We split  $D$ into:\n",
        "\n",
        "- A **proper training set** $ D_{\\text{train}} $ used to fit the model.\n",
        "- A **calibration set** $ D_{\\text{calib}} $, typically consisting of $m$ points:\n",
        "\n",
        "  $$\n",
        "  D_{\\text{calib}} = \\{(X_{n-m+1}, Y_{n-m+1}), \\dots, (X_n, Y_n)\\}\n",
        "  $$\n",
        "\n",
        "- A **test point** $ D_{\\text{test}} = \\{(X_{n+1}, Y_{n+1})\\} $, for which we construct a prediction set.\n",
        "\n",
        "### Exchangeability Condition\n",
        "The key requirement is that the **augmented dataset**:\n",
        "\n",
        "$$\n",
        "D_{\\text{calib}} \\cup D_{\\text{test}} = \\{(X_{n-m+1}, Y_{n-m+1}), \\dots, (X_n, Y_n), (X_{n+1}, Y_{n+1})\\}\n",
        "$$\n",
        "\n",
        "must be **exchangeable**. This means that for any permutation $\\pi$, the joint distribution remains unchanged:\n",
        "\n",
        "$$\n",
        "(P_{\\pi(n-m+1)}, \\dots, P_{\\pi(n+1)}) \\overset{d}{=} (P_{n-m+1}, \\dots, P_{n+1}).\n",
        "$$\n",
        "\n",
        "This ensures that the empirical distribution of residuals from $D_{\\text{calib}} $ can be used to construct a valid prediction interval for $ Y_{n+1} $, maintaining marginal coverage guarantees.\n"
      ],
      "metadata": {
        "id": "yf0hMbQFuhzo"
      }
    },
    {
      "cell_type": "markdown",
      "source": [
        "### Parameters"
      ],
      "metadata": {
        "id": "N0c-jodaMAgl"
      }
    },
    {
      "cell_type": "code",
      "source": [
        "np.random.seed(0)\n",
        "\n",
        "# Generating 1000 samples of A (4x4 matrices) and u (4x1 vectors)\n",
        "num_samples = 100\n",
        "dim = 4\n",
        "\n",
        "# Adding noise to the y_true values using the add_noise function\n",
        "# 'iid' or 'nonexchangeable_trend'\n",
        "noise_type = 'nonexchangeable_trend' #'nonexchangeable_trend'#'iid'"
      ],
      "metadata": {
        "id": "fZ9M-3mhCCgv"
      },
      "execution_count": null,
      "outputs": []
    },
    {
      "cell_type": "markdown",
      "source": [
        "### Data generation"
      ],
      "metadata": {
        "id": "lVspNW6-MKty"
      }
    },
    {
      "cell_type": "code",
      "source": [
        "def add_noise(y_true, noise_type, position_in_dataset):\n",
        "    if noise_type == 'iid':\n",
        "        noise = np.random.uniform(0, 1, size=y_true.shape)  # iid uniform noise\n",
        "    elif noise_type == 'nonexchangeable_trend':\n",
        "        if position_in_dataset < 0.9:  # First 70%: non-exchangeable noise\n",
        "            noise = np.random.uniform(0, 1, size=y_true.shape)\n",
        "        else:  # Rest: iid noise\n",
        "            indices = np.arange(len(y_true))\n",
        "            noise = 10 * indices + np.random.normal(100, 50, size=y_true.shape)  # Strong trend + Gaussian noise\n",
        "\n",
        "    return y_true + noise"
      ],
      "metadata": {
        "id": "f6h6AtUVEWyj",
        "collapsed": true
      },
      "execution_count": null,
      "outputs": []
    },
    {
      "cell_type": "code",
      "source": [
        "def generate_data(num_samples, dim, noise_type):\n",
        "    A_samples = np.random.uniform(0, 1, (num_samples, dim, dim))  # matrices of size dimxdim\n",
        "    u_samples = np.random.uniform(0, 1, (num_samples, dim))       # vectors of size dimx1\n",
        "\n",
        "    # Generating y_true values for each sample (y_true = A * u)\n",
        "    y_true_samples  = np.array([np.dot(A, u) for A, u in zip(A_samples, u_samples)])\n",
        "\n",
        "    # Add noise based on position_in_dataset\n",
        "    y_noisy_samples = np.array([add_noise(y_true, noise_type, i/num_samples) for i, y_true in enumerate(y_true_samples)])\n",
        "\n",
        "    dataset = list(zip(y_noisy_samples, y_true_samples))\n",
        "    #np.random.shuffle(dataset)\n",
        "\n",
        "    return dataset"
      ],
      "metadata": {
        "id": "sBEznhd6EYYD"
      },
      "execution_count": null,
      "outputs": []
    },
    {
      "cell_type": "code",
      "source": [
        "#def generate_data(num_samples, dim, noise_type):\n",
        "    # Generate random matrices A and vectors u\n",
        "#    A_samples = np.random.uniform(0, 1, (num_samples, dim, dim))  # matrices of size dimxdim\n",
        "#    u_samples = np.random.uniform(0, 1, (num_samples, dim))       # vectors  of size dimx1\n",
        "\n",
        "    # Generating y_true values for each sample (y_true = A * u)\n",
        "#    y_true_samples  = np.array([np.dot(A, u) for A, u in zip(A_samples, u_samples)])\n",
        "#    y_noisy_samples = np.array([add_noise(y_true, noise_type) for y_true in y_true_samples])\n",
        "\n",
        "#    dataset = list(zip(y_noisy_samples, y_true_samples))\n",
        "\n",
        "#    return dataset"
      ],
      "metadata": {
        "id": "2eqXOzr0Ahn6"
      },
      "execution_count": null,
      "outputs": []
    },
    {
      "cell_type": "markdown",
      "source": [
        "Generate set with 100 noisy output vectors and 100 non-noisy output vectors"
      ],
      "metadata": {
        "id": "eMGt7GabpHHm"
      }
    },
    {
      "cell_type": "code",
      "source": [
        "# Generate set with num_samples noisy output vectors and num_samples non-noisy output vectors\n",
        "dataset = generate_data(num_samples, dim, noise_type)\n",
        "\n",
        "# Extracting a  first sample\n",
        "noisy, true = dataset[0]\n",
        "\n",
        "# Check\n",
        "print(f\"Type of noise: {noise_type}\")\n",
        "print(f\"Number of samples in dataset: {len(dataset)}\")\n",
        "print(f\"Shape of noisy vectors: {noisy.shape}\")\n",
        "print(f\"Shape of non-noisy vectors): {true.shape}\")"
      ],
      "metadata": {
        "colab": {
          "base_uri": "https://localhost:8080/"
        },
        "id": "SZ-YhTBKqgsR",
        "outputId": "aaa99121-2295-4de8-c421-5fc5bee7b4d7"
      },
      "execution_count": null,
      "outputs": [
        {
          "output_type": "stream",
          "name": "stdout",
          "text": [
            "Type of noise: nonexchangeable_trend\n",
            "Number of samples in dataset: 100\n",
            "Shape of noisy vectors: (4,)\n",
            "Shape of non-noisy vectors): (4,)\n"
          ]
        }
      ]
    },
    {
      "cell_type": "markdown",
      "source": [
        "### Splitting of data & Model training"
      ],
      "metadata": {
        "id": "FK7r8FUSMWoj"
      }
    },
    {
      "cell_type": "code",
      "source": [
        "#np.random.shuffle(dataset)\n",
        "\n",
        "train_data = dataset[:int(0.7*len(dataset))]                             # 70% for model training\n",
        "calibration_data = dataset[int(0.7*len(dataset)):int(0.9*len(dataset))]  # 20% for conformal calibration\n",
        "test_data = dataset[int(0.9*len(dataset)):]                              # 10% for conformal testing\n",
        "\n",
        "X_train_noisy, Y_train_true = zip(*train_data)\n",
        "X_calibration_noisy, Y_calibration_true = zip(*calibration_data)\n",
        "X_test_noisy, Y_test_true = zip(*test_data)\n",
        "\n",
        "# Tuples to arrays\n",
        "X_train_noisy, Y_train_true = np.array(X_train_noisy), np.array(Y_train_true)\n",
        "X_calibration_noisy, Y_calibration_true = np.array(X_calibration_noisy), np.array(Y_calibration_true)\n",
        "X_test_noisy, Y_test_true = np.array(X_test_noisy), np.array(Y_test_true)"
      ],
      "metadata": {
        "id": "BySg3Fkrpu-r"
      },
      "execution_count": null,
      "outputs": []
    },
    {
      "cell_type": "code",
      "source": [
        "# Train a model\n",
        "model_coef = np.linalg.lstsq(X_train_noisy, Y_train_true, rcond=None)[0]  # Least squares solution"
      ],
      "metadata": {
        "id": "vQ9NgVGdtZmS"
      },
      "execution_count": null,
      "outputs": []
    },
    {
      "cell_type": "markdown",
      "source": [
        "### Split Conformal Prediction"
      ],
      "metadata": {
        "id": "Q3bTM9r7MueJ"
      }
    },
    {
      "cell_type": "markdown",
      "source": [
        "Calibration"
      ],
      "metadata": {
        "id": "MpGQO4dLq5R_"
      }
    },
    {
      "cell_type": "code",
      "source": [
        "def split_conformal_prediction_with_test(X_calib, model_coef, Y_calib, alpha_value):\n",
        "\n",
        "    y_pred_calib = np.dot(X_calib, model_coef)\n",
        "\n",
        "    # Compute residuals\n",
        "    residuals = np.abs(Y_calib - y_pred_calib)\n",
        "    residuals_reduced = np.linalg.norm(residuals, axis=1)\n",
        "\n",
        "    # Taking the norm among the n dimensions\n",
        "    q_alpha = np.percentile(residuals_reduced, 100 * (1 - alpha_cp))\n",
        "\n",
        "    return q_alpha"
      ],
      "metadata": {
        "id": "JB_4kzubwKRv"
      },
      "execution_count": null,
      "outputs": []
    },
    {
      "cell_type": "markdown",
      "source": [
        "Testing, for computing empirical coverage and average prediction interval size"
      ],
      "metadata": {
        "id": "yUXUbmNHq8fI"
      }
    },
    {
      "cell_type": "code",
      "source": [
        "def compute_coverage_and_interval_size(X_test, model_coef, Y_test, q_alpha):\n",
        "\n",
        "    y_pred = np.dot(X_test, model_coef)\n",
        "\n",
        "    lower_bound = y_pred - q_alpha\n",
        "    upper_bound = y_pred + q_alpha\n",
        "\n",
        "    residuals_test_set = np.abs(Y_test - y_pred)\n",
        "    residuals_test_set = np.linalg.norm(residuals_test_set, axis=1)\n",
        "\n",
        "    pred_test_set = np.abs(y_pred)\n",
        "    pred_norm_test_set = np.linalg.norm(pred_test_set, axis=1)\n",
        "\n",
        "    # Empirical coverage: percentage of true values within the prediction intervals\n",
        "    coverage = np.mean((Y_test >= lower_bound) & (Y_test <= upper_bound)) * 100 # Element-wise comparation\n",
        "\n",
        "    # Average prediction interval size\n",
        "    avg_interval_size = np.mean(upper_bound - lower_bound)\n",
        "\n",
        "    return coverage, avg_interval_size, lower_bound, upper_bound, y_pred, residuals_test_set, pred_norm_test_set"
      ],
      "metadata": {
        "id": "8jzAyl_Zxfm6"
      },
      "execution_count": null,
      "outputs": []
    },
    {
      "cell_type": "markdown",
      "source": [
        "# Permutation Test"
      ],
      "metadata": {
        "id": "wtn7axIKx96f"
      }
    },
    {
      "cell_type": "markdown",
      "source": [
        "Permutation test asseses the only condition for CP, exchangeability of data(labels) to check for indepence among observations, ie that there are no underlying dependecies in the data (DeFinetti...)"
      ],
      "metadata": {
        "id": "LPepTI2ppdjn"
      }
    },
    {
      "cell_type": "markdown",
      "source": [
        "### Exchangeability Condition\n",
        "The key requirement is that the **augmented dataset**:\n",
        "\n",
        "$$\n",
        "D_{\\text{calib}} \\cup D_{\\text{test}} = \\{(X_{n-m+1}, Y_{n-m+1}), \\dots, (X_n, Y_n), (X_{n+1}, Y_{n+1})\\}\n",
        "$$\n",
        "\n",
        "must be **exchangeable**. This means that for any permutation $\\pi$, the joint distribution remains unchanged:\n",
        "\n",
        "$$\n",
        "(P_{\\pi(n-m+1)}, \\dots, P_{\\pi(n+1)}) \\overset{d}{=} (P_{n-m+1}, \\dots, P_{n+1}).\n",
        "$$\n",
        "\n",
        "This ensures that the empirical distribution of residuals from $D_{\\text{calib}} $ can be used to construct a valid prediction interval for $ Y_{n+1} $, maintaining marginal coverage guarantees."
      ],
      "metadata": {
        "id": "JsMIJf78veeP"
      }
    },
    {
      "cell_type": "markdown",
      "source": [
        "Exchangeability assumption has to hold between Calibration and Test sets, therefore we **concatenate** both to perform a permutation test"
      ],
      "metadata": {
        "id": "XhItKt8xtDS3"
      }
    },
    {
      "cell_type": "code",
      "source": [
        "X_permutation_noisy = np.concatenate((X_calibration_noisy, X_test_noisy), axis=0)\n",
        "Y_permutation_true  = np.concatenate((Y_calibration_true, Y_test_true), axis=0)"
      ],
      "metadata": {
        "id": "k-dFD4bntBP_"
      },
      "execution_count": null,
      "outputs": []
    },
    {
      "cell_type": "code",
      "source": [
        "X_test_noisy.mean()"
      ],
      "metadata": {
        "colab": {
          "base_uri": "https://localhost:8080/"
        },
        "id": "WppZsGUoAkpT",
        "outputId": "35355fe5-278b-410f-f69e-ad9eee090983"
      },
      "execution_count": null,
      "outputs": [
        {
          "output_type": "execute_result",
          "data": {
            "text/plain": [
              "105.47797107137887"
            ]
          },
          "metadata": {},
          "execution_count": 373
        }
      ]
    },
    {
      "cell_type": "code",
      "source": [
        "X_test_noisy"
      ],
      "metadata": {
        "colab": {
          "base_uri": "https://localhost:8080/"
        },
        "id": "KRQDNm2jAkLK",
        "outputId": "d3e4d8d2-5254-42a7-9995-42a2710451e7"
      },
      "execution_count": null,
      "outputs": [
        {
          "output_type": "execute_result",
          "data": {
            "text/plain": [
              "array([[149.052665  ,  74.44496534,  83.4560221 ,  58.95999437],\n",
              "       [231.73381871,  73.74512216,  55.7684814 ,  90.63406275],\n",
              "       [ 62.32432613,  97.80324046, 161.52141031, 116.58169982],\n",
              "       [ 54.44333968,  37.73697346, 121.3229579 , 132.7159194 ],\n",
              "       [177.78855143, 115.2257673 , 116.14156089,  78.51264689],\n",
              "       [ 86.64104085,  89.89757063, 103.28904127,  83.57012254],\n",
              "       [128.17905922, 103.60437685, 110.97098649,  45.5042047 ],\n",
              "       [126.33566133, 135.70315672,  79.51620556, 180.36172871],\n",
              "       [ 32.87584702, 109.17301345, 107.80509246,  65.80134975],\n",
              "       [110.810937  , 196.80046006, 124.18448625, 108.18097648]])"
            ]
          },
          "metadata": {},
          "execution_count": 374
        }
      ]
    },
    {
      "cell_type": "code",
      "source": [
        "N = len(X_permutation_noisy)\n",
        "max_permutations = math.factorial(N)\n",
        "\n",
        "print(N, max_permutations)"
      ],
      "metadata": {
        "colab": {
          "base_uri": "https://localhost:8080/"
        },
        "id": "ZJP8gwL_phoG",
        "outputId": "985da358-e39a-431b-d379-3617670451f8"
      },
      "execution_count": null,
      "outputs": [
        {
          "output_type": "stream",
          "name": "stdout",
          "text": [
            "30 265252859812191058636308480000000\n"
          ]
        }
      ]
    },
    {
      "cell_type": "code",
      "source": [
        "pd.DataFrame(X_permutation_noisy).hist()"
      ],
      "metadata": {
        "colab": {
          "base_uri": "https://localhost:8080/",
          "height": 506
        },
        "id": "75AjvMhxKh8D",
        "outputId": "534eb200-ffc3-404f-9cd9-a3138e80f993"
      },
      "execution_count": null,
      "outputs": [
        {
          "output_type": "execute_result",
          "data": {
            "text/plain": [
              "array([[<Axes: title={'center': '0'}>, <Axes: title={'center': '1'}>],\n",
              "       [<Axes: title={'center': '2'}>, <Axes: title={'center': '3'}>]],\n",
              "      dtype=object)"
            ]
          },
          "metadata": {},
          "execution_count": 376
        },
        {
          "output_type": "display_data",
          "data": {
            "text/plain": [
              "<Figure size 640x480 with 4 Axes>"
            ],
            "image/png": "[encoded data removed]"
          },
          "metadata": {}
        }
      ]
    },
    {
      "cell_type": "code",
      "source": [
        "pd.DataFrame(Y_pred).hist()"
      ],
      "metadata": {
        "colab": {
          "base_uri": "https://localhost:8080/",
          "height": 506
        },
        "id": "oZjDEkk0Kr7L",
        "outputId": "49042741-2c1f-45fc-c035-5af344615039"
      },
      "execution_count": null,
      "outputs": [
        {
          "output_type": "execute_result",
          "data": {
            "text/plain": [
              "array([[<Axes: title={'center': '0'}>, <Axes: title={'center': '1'}>],\n",
              "       [<Axes: title={'center': '2'}>, <Axes: title={'center': '3'}>]],\n",
              "      dtype=object)"
            ]
          },
          "metadata": {},
          "execution_count": 377
        },
        {
          "output_type": "display_data",
          "data": {
            "text/plain": [
              "<Figure size 640x480 with 4 Axes>"
            ],
            "image/png": "[encoded data removed]"
          },
          "metadata": {}
        }
      ]
    },
    {
      "cell_type": "code",
      "source": [
        "pd.DataFrame(Y_permutation_true).hist()"
      ],
      "metadata": {
        "colab": {
          "base_uri": "https://localhost:8080/",
          "height": 506
        },
        "id": "QMH8wiV1Mohb",
        "outputId": "6abb3e52-462f-4e32-e59f-87da3ad5913b"
      },
      "execution_count": null,
      "outputs": [
        {
          "output_type": "execute_result",
          "data": {
            "text/plain": [
              "array([[<Axes: title={'center': '0'}>, <Axes: title={'center': '1'}>],\n",
              "       [<Axes: title={'center': '2'}>, <Axes: title={'center': '3'}>]],\n",
              "      dtype=object)"
            ]
          },
          "metadata": {},
          "execution_count": 378
        },
        {
          "output_type": "display_data",
          "data": {
            "text/plain": [
              "<Figure size 640x480 with 4 Axes>"
            ],
            "image/png": "[encoded data removed]"
          },
          "metadata": {}
        }
      ]
    },
    {
      "cell_type": "code",
      "source": [
        "# Computing the residual as the diff between vectors and taking the norm as unique parameter/statistic\n",
        "def mean_euclidean_distance(A, B):\n",
        "    return np.mean(np.linalg.norm(A - B, axis=1))\n",
        "\n",
        "# Observed distance/residual in initial data\n",
        "Y_pred = np.dot(X_permutation_noisy, model_coef)\n",
        "D_obs = mean_euclidean_distance(Y_pred, Y_permutation_true)\n",
        "\n",
        "# Permutation test\n",
        "num_permutations = 10000\n",
        "D_perm = []\n",
        "\n",
        "for _ in range(num_permutations):\n",
        "    permuted = Y_pred.copy()\n",
        "    np.random.shuffle(permuted)\n",
        "    D_perm.append(mean_euclidean_distance(Y_permutation_true, permuted))\n",
        "\n",
        "D_perm = np.array(D_perm)\n",
        "\n",
        "# p-value\n",
        "p_value = np.mean(D_obs <= D_perm) # is the order important? check this...\n",
        "\n",
        "# Result\n",
        "print(f\"Observed distance/residual: {D_obs:.4f}\")\n",
        "print(f\"Mean permuted distance/residual: {np.mean(D_perm):.4f}\")\n",
        "print(f\"p-value: {p_value:.4f}\")\n",
        "\n",
        "if p_value < 0.05:\n",
        "    permutation_test = 'Permutation Test Not Passed'\n",
        "    print(\"We reject the null hypothesis of Exchangeability.\", permutation_test)\n",
        "\n",
        "else:\n",
        "    permutation_test = 'Permutation Test Passed'\n",
        "    print(\"No sufficient evidence to reject Exchangeability.\", permutation_test)"
      ],
      "metadata": {
        "colab": {
          "base_uri": "https://localhost:8080/"
        },
        "id": "NWwLnRRkoK2g",
        "outputId": "abe55074-e358-484a-8ad9-615f0f31d9af"
      },
      "execution_count": null,
      "outputs": [
        {
          "output_type": "execute_result",
          "data": {
            "text/plain": [
              "array([50.058998  , 50.00646224, 50.12154833, ..., 50.13313288,\n",
              "       50.05735749, 50.1368318 ])"
            ]
          },
          "metadata": {},
          "execution_count": 383
        }
      ]
    },
    {
      "cell_type": "markdown",
      "source": [
        "## Why do we need exchangeability?\n",
        "\n",
        "We can compute the probability of how the residual $ R_{n+1} $ would be ranked among the other residuals (i.e. conformity scores):\n",
        "\n",
        "$$\n",
        "\\pi = \\frac{1}{n+1} \\sum_{i=1}^{n+1} \\mathbb{I}  \\{ R_{n+1} \\leq  R_i\\} = \\frac{1}{n+1} + \\frac{1}{n+1} \\sum_{i=1}^{n}\\mathbb{I}  \\{ R_{n+1} \\leq  R_i\\}\n",
        "$$\n",
        "\n",
        "where $ \\mathbb{I}\\{\\cdot\\}$, the indicator function, evaluates whether the score $ R_{n+1} $ is less than or equal to the score $ R_i $.\n",
        "\n",
        "Due to the exchangeability of the data points and the scores (given by the symmetry of the predictor), the probability $ \\pi $ is uniformly distributed over the set:\n",
        "\n",
        "$$\n",
        "\\left\\{ \\frac{1}{n+1}, \\frac{2}{n+1}, \\dots, \\frac{n+1}{n+1} \\right\\}\n",
        "$$\n",
        "\n",
        "which implies that:\n",
        "\n",
        "$$\n",
        "\\mathbb{P}(R_{n+1} \\leq R_k) = \\frac{k}{n+1}, \\quad \\text{for any } k \\in \\{1, 2, \\dots, n+1\\}\n",
        "$$\n",
        "\n",
        "where \\( k \\) refers to the particular order statistic of \\( R_k \\).\n",
        "\n",
        "Finally, we can conclude that the probability that the score $ R_{n+1} $ lies below the quantile $ \\lceil (n+1)(1-\\alpha) \\rceil $ is at least $ 1 - \\alpha $, that is:\n",
        "\n",
        "$$\n",
        "\\mathbb{P}(R_{n+1} \\leq R_{\\lceil (n+1)(1-\\alpha) \\rceil}) = \\frac{\\lceil (n+1)(1-\\alpha) \\rceil}{n+1} \\geq 1 - \\alpha\n",
        "$$\n",
        "\n",
        "---\n",
        "\n",
        "Thus, the probability that the ground truth $ Y_{n+1} $ would be realized in the prediction set $ C(X_{n+1}) $ is:\n",
        "\n",
        "$$\n",
        "\\mathbb{P}(R_{n+1} \\leq \\hat{q}) = \\mathbb{P}(Y_{n+1} \\in C(X_{n+1})) \\geq 1 - \\alpha\n",
        "$$\n",
        "\n",
        "This directly expresses that the event of $ Y_{n+1} $ belonging to $ C(X_{n+1}) $ corresponds to the non-conformity score $ S_{n+1} $ being less than or equal to the calibration quantile $ \\hat{q} $, and ensures that the ground truth is contained in the prediction set with at least $ 1 - \\alpha $ probability, satisfying the marginal coverage guarantee.\n"
      ],
      "metadata": {
        "id": "IBy4aeHNSJ0M"
      }
    },
    {
      "cell_type": "markdown",
      "source": [
        "# Conformal Prediction Results\n",
        "* $\\text{Coverage (empirical):} \\,  \\frac{1}{n} \\sum_{i \\in \\text{Test}} \\mathbb{I}\\left(y^*_i  \\in \\left[\\hat{y}_i + q_{1-\\alpha}, \\hat{y}_i - q_{1-\\alpha}\\right]\\right) \\cdot 100\\%$\n",
        "\n",
        "* $\\text{Average Size:} \\, \\frac{1}{n}\\sum_{i \\in \\text{Test}} \\left( \\text{Upper Bound}_i - \\text{Lower Bound}_i \\right)$\n",
        "\n",
        "* $\\text{Expected Relative Residual:} \\, \\mathbb{E}\\left[\\frac{\\|y_i - \\hat{y}_i\\|}{\\|\\hat{y}_i\\|}\\right] = \\frac{1}{n}\\sum_{i \\in \\text{Test}}\\frac{\\text{residuals}_i}{\\text{pred_norm}_i}$\n",
        "\n",
        "* $\\text{Expected Relative Interval Size:} \\, \\mathbb{E}\\left[\\frac{\\sqrt{n} \\cdot q_{1-\\alpha}}{\\|\\hat{y}_i\\|}\\right] = \\frac{1}{n}\\sum_{i \\in \\text{Test}}\\frac{\\sqrt{n} \\cdot q_{1-\\alpha}}{\\text{pred_norm}_i}$"
      ],
      "metadata": {
        "id": "3H0e9vj5oQYJ"
      }
    },
    {
      "cell_type": "code",
      "source": [
        "# Desired alpha/error level for Conformal Prediction\n",
        "alpha_cp   = 0.1"
      ],
      "metadata": {
        "id": "cbowdMdLr0pO"
      },
      "execution_count": null,
      "outputs": []
    },
    {
      "cell_type": "markdown",
      "source": [
        "## noise_type = 'iid'"
      ],
      "metadata": {
        "id": "t1npGCmtrsRz"
      }
    },
    {
      "cell_type": "code",
      "source": [
        "if noise_type == 'iid':\n",
        "\n",
        "  q_alpha_iid = split_conformal_prediction_with_test(X_calib = X_calibration_noisy, model_coef = model_coef, Y_calib = Y_calibration_true, alpha_value=alpha_cp)\n",
        "  coverage_iid, avg_size_iid, lower_bound_iid, upper_bound_iid, y_pred_iid, residuals_test_set_iid, pred_norm_test_set_iid = compute_coverage_and_interval_size(X_test_noisy, model_coef, Y_test_true, q_alpha_iid)\n",
        "\n",
        "  print(f' {permutation_test} \\n Coverage marginal: {coverage_iid}\\n Coverage (empirical) guarantee satisfied?: {coverage_iid >= (1-alpha_cp)*100}\\n Avg Interval Size: {(np.abs(avg_size_iid))} \\n Expected Relative Residual: {(np.mean(residuals_test_set_iid/pred_norm_test_set_iid))} \\n Expected Relative Interval Size: {(np.mean((np.sqrt(2)*q_alpha_iid)/pred_norm_test_set_iid))}')"
      ],
      "metadata": {
        "id": "PirZZBoTpl_l"
      },
      "execution_count": null,
      "outputs": []
    },
    {
      "cell_type": "markdown",
      "source": [
        "## noise_type = 'non-exchangeable'"
      ],
      "metadata": {
        "id": "ufXMMDDBrvFZ"
      }
    },
    {
      "cell_type": "code",
      "source": [
        "if noise_type == 'nonexchangeable_trend':\n",
        "\n",
        "  q_alpha_nonexchangeable = split_conformal_prediction_with_test(X_calib = X_calibration_noisy, model_coef = model_coef, Y_calib = Y_calibration_true, alpha_value=alpha_cp)\n",
        "  coverage_nonexchangeable, avg_size_nonexchangeable, lower_bound_nonexchangeable, upper_bound_nonexchangeable, y_pred_nonexchangeable, residuals_test_set_nonexchangeable, pred_norm_test_set_nonexchangeable = compute_coverage_and_interval_size(X_test_noisy, model_coef, Y_test_true, q_alpha_nonexchangeable)\n",
        "\n",
        "  print(f' {permutation_test} \\n Coverage marginal: {coverage_nonexchangeable}\\n Coverage (empirical) guarantee satisfied?: {coverage_nonexchangeable >= (1-alpha_cp)*100}\\n Avg Interval Size: {(np.abs(avg_size_nonexchangeable))} \\n Expected Relative Residual: {(np.mean(residuals_test_set_nonexchangeable/pred_norm_test_set_nonexchangeable))} \\n Expected Relative Interval Size: {(np.mean((np.sqrt(2)*q_alpha_nonexchangeable)/pred_norm_test_set_nonexchangeable))}')"
      ],
      "metadata": {
        "colab": {
          "base_uri": "https://localhost:8080/"
        },
        "id": "n0uTP0SFrvhO",
        "outputId": "db96ea41-9afb-4e98-a798-3b49044fe8fc"
      },
      "execution_count": null,
      "outputs": [
        {
          "output_type": "stream",
          "name": "stdout",
          "text": [
            " Permutation Test Passed \n",
            " Coverage marginal: 0.0\n",
            " Coverage (empirical) guarantee satisfied?: False\n",
            " Avg Interval Size: 1.5112275059911489 \n",
            " Expected Relative Residual: 0.9860545289430529 \n",
            " Expected Relative Interval Size: 0.007402496952031557\n"
          ]
        }
      ]
    }
  ],
  "metadata": {
    "colab": {
      "provenance": [],
      "toc_visible": true
    },
    "kernelspec": {
      "display_name": "Python 3",
      "name": "python3"
    },
    "language_info": {
      "name": "python"
    }
  },
  "nbformat": 4,
  "nbformat_minor": 0
}